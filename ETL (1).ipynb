{
 "cells": [
  {
   "cell_type": "code",
   "execution_count": 46,
   "id": "fd8a2d8b-383b-4261-928e-5a3e29a5aba3",
   "metadata": {},
   "outputs": [],
   "source": [
    "import logging"
   ]
  },
  {
   "cell_type": "code",
   "execution_count": 47,
   "id": "4c76230e-8334-4f82-9ae0-d86ea72ab720",
   "metadata": {},
   "outputs": [],
   "source": [
    "logging.basicConfig( \n",
    "filename='etl_log.txt', \n",
    "level=logging.INFO, \n",
    "format='%(asctime)s - %(levelname)s - %(message)s' \n",
    ") "
   ]
  },
  {
   "cell_type": "code",
   "execution_count": 48,
   "id": "724d4313-c5a7-4846-abfc-e3331f427ace",
   "metadata": {},
   "outputs": [],
   "source": [
    "import pandas as pd"
   ]
  },
  {
   "cell_type": "code",
   "execution_count": 49,
   "id": "f16c2136-5f1d-4d71-a643-1cd964a1afae",
   "metadata": {},
   "outputs": [],
   "source": [
    "import numpy as np"
   ]
  },
  {
   "cell_type": "code",
   "execution_count": 50,
   "id": "80168f2d-8e85-4601-bb72-5296942ddb0c",
   "metadata": {},
   "outputs": [],
   "source": [
    "import mysql.connector"
   ]
  },
  {
   "cell_type": "code",
   "execution_count": 51,
   "id": "a0b5957f-2354-46cf-be3c-8b6eddcecd77",
   "metadata": {},
   "outputs": [],
   "source": [
    "import datetime"
   ]
  },
  {
   "cell_type": "code",
   "execution_count": 52,
   "id": "aafc5f1f-72e2-4d6a-8e2c-e43bad6c0558",
   "metadata": {},
   "outputs": [],
   "source": [
    "csv_file_path = 'employees1.csv'"
   ]
  },
  {
   "cell_type": "code",
   "execution_count": 53,
   "id": "a8c0effa-e93a-4ebf-a7a3-538008e6b948",
   "metadata": {},
   "outputs": [],
   "source": [
    "df = pd.read_csv(\"C:/Users/sabar/Downloads/employees1.csv\")\n"
   ]
  },
  {
   "cell_type": "code",
   "execution_count": 54,
   "id": "6acf1c84-ffaf-4ff3-bd5e-436ee175f75d",
   "metadata": {},
   "outputs": [
    {
     "name": "stdout",
     "output_type": "stream",
     "text": [
      "Raw data loaded:\n"
     ]
    }
   ],
   "source": [
    "print(\"Raw data loaded:\") "
   ]
  },
  {
   "cell_type": "code",
   "execution_count": 55,
   "id": "96ea380b-d062-4350-a30a-c55a1baefeac",
   "metadata": {},
   "outputs": [
    {
     "name": "stdout",
     "output_type": "stream",
     "text": [
      "   EMPLOYEE_ID FIRST_NAME  LAST_NAME     EMAIL  PHONE_NUMBER  HIRE_DATE  \\\n",
      "0          198     Donald   OConnell  DOCONNEL  650.507.9833  21-Jun-07   \n",
      "1          199    Douglas      Grant    DGRANT  650.507.9844  13-Jan-08   \n",
      "2          200   Jennifer     Whalen   JWHALEN  515.123.4444  17-Sep-03   \n",
      "3          201    Michael  Hartstein  MHARTSTE  515.123.5555  17-Feb-04   \n",
      "4          202        Pat        Fay      PFAY  603.123.6666  17-Aug-05   \n",
      "\n",
      "     JOB_ID  SALARY  \n",
      "0  SH_CLERK    2600  \n",
      "1  SH_CLERK    2600  \n",
      "2   AD_ASST    4400  \n",
      "3    MK_MAN   13000  \n",
      "4    MK_REP    6000  \n"
     ]
    }
   ],
   "source": [
    "print(df.head())"
   ]
  },
  {
   "cell_type": "code",
   "execution_count": 56,
   "id": "384558bc-2cff-4ee3-9648-0e8dc22e0939",
   "metadata": {},
   "outputs": [
    {
     "name": "stdout",
     "output_type": "stream",
     "text": [
      "['EMPLOYEE_ID', 'FIRST_NAME', 'LAST_NAME', 'EMAIL', 'PHONE_NUMBER', 'HIRE_DATE', 'JOB_ID', 'SALARY']\n"
     ]
    }
   ],
   "source": [
    "print(df.columns.tolist())\n"
   ]
  },
  {
   "cell_type": "code",
   "execution_count": 57,
   "id": "03f47732-98d1-44e2-b78f-9b90e2c69db1",
   "metadata": {},
   "outputs": [],
   "source": [
    "logging.info(\"CSV loaded successfully.\")"
   ]
  },
  {
   "cell_type": "code",
   "execution_count": 58,
   "id": "08190f35-a192-4ace-bcdb-d81a050a1655",
   "metadata": {},
   "outputs": [],
   "source": [
    "df.fillna({ \n",
    "'EMAIL': 'not_provided@example.com', \n",
    "'PHONE_NUMBER': '0000000000', \n",
    "'HIRE_DATE': '01-Jan-00', \n",
    "'SALARY': 0 \n",
    "}, inplace=True) \n"
   ]
  },
  {
   "cell_type": "code",
   "execution_count": 59,
   "id": "09008126-34bf-4512-8243-0783bf5a52ca",
   "metadata": {},
   "outputs": [],
   "source": [
    "df.columns = [col.strip().lower().replace(' ', '_') for col in df.columns]"
   ]
  },
  {
   "cell_type": "code",
   "execution_count": 60,
   "id": "a7891a83-b850-4917-8a48-b4fe02727063",
   "metadata": {},
   "outputs": [
    {
     "name": "stdout",
     "output_type": "stream",
     "text": [
      "['employee_id', 'first_name', 'last_name', 'email', 'phone_number', 'hire_date', 'job_id', 'salary']\n"
     ]
    }
   ],
   "source": [
    "print(df.columns.tolist())"
   ]
  },
  {
   "cell_type": "code",
   "execution_count": 61,
   "id": "2ee8c06e-f1d7-43ba-a0d8-9e7effa21ae6",
   "metadata": {},
   "outputs": [],
   "source": [
    "df['hire_date'] = pd.to_datetime(df[\"hire_date\"], format='%d-%b-%y', \n",
    "errors='coerce')"
   ]
  },
  {
   "cell_type": "code",
   "execution_count": 62,
   "id": "9553d245-cd9a-45d7-ba67-19507f2662dc",
   "metadata": {},
   "outputs": [],
   "source": [
    "df['hire_date'] = df['hire_date'].fillna(pd.to_datetime('2000-01-01')) "
   ]
  },
  {
   "cell_type": "code",
   "execution_count": 63,
   "id": "309d69ce-e70b-475c-868d-ade0329ed164",
   "metadata": {},
   "outputs": [],
   "source": [
    "df['salary'] = pd.to_numeric(df['salary'], errors='coerce').fillna(0).astype(int)\n"
   ]
  },
  {
   "cell_type": "code",
   "execution_count": 64,
   "id": "922a274d-33a0-45a8-8573-3e7f54cce193",
   "metadata": {},
   "outputs": [],
   "source": [
    "logging.info(\"Data cleaning completed.\")\n"
   ]
  },
  {
   "cell_type": "code",
   "execution_count": 66,
   "id": "df123160-bb0b-43ee-961b-8bac2ef52641",
   "metadata": {},
   "outputs": [],
   "source": [
    "mydb = mysql.connector.connect( \n",
    "    host=\"localhost\", \n",
    "    user=\"root\", \n",
    "    password=\"Parthalachu2015\", \n",
    "    database=\"empolyee\"  \n",
    ") \n",
    "cursor = mydb.cursor() "
   ]
  },
  {
   "cell_type": "code",
   "execution_count": 67,
   "id": "7133ce31-560c-48e3-acfb-1ba292e32a81",
   "metadata": {},
   "outputs": [],
   "source": [
    " \n",
    "cursor.execute(\"\"\" \n",
    "    CREATE TABLE IF NOT EXISTS salary_2 ( \n",
    "        empid INT, \n",
    "        firstname VARCHAR(50), \n",
    "        lastname VARCHAR(50), \n",
    "        email VARCHAR(100), \n",
    "        phone VARCHAR(20), \n",
    "        hire_date DATE, \n",
    "        job_id VARCHAR(20), \n",
    "        salary INT \n",
    "    ) \n",
    "\"\"\") "
   ]
  },
  {
   "cell_type": "code",
   "execution_count": 70,
   "id": "c844a0a0-fa79-4d5b-93ae-4dcacc17d3f9",
   "metadata": {},
   "outputs": [],
   "source": [
    "for index, row in df.iterrows(): \n",
    "    sql = \"\"\" \n",
    "      INSERT INTO salary_2 (empid, firstname, lastname, email, phone, \n",
    "hire_date, job_id, salary) \n",
    "        VALUES (%s, %s, %s, %s, %s, %s, %s, %s) \n",
    "        ON DUPLICATE KEY UPDATE \n",
    "            firstname=VALUES(firstname), \n",
    "            lastname=VALUES(lastname), \n",
    "            email=VALUES(email), \n",
    "            phone=VALUES(phone), \n",
    "            hire_date=VALUES(hire_date), \n",
    "            job_id=VALUES(job_id), \n",
    "            salary=VALUES(salary) \n",
    "    \"\"\" \n",
    "    values = ( \n",
    "        int(row['employee_id']),\n",
    "           row['first_name'], \n",
    "        row['last_name'], \n",
    "        row['email'], \n",
    "        row['phone_number'], \n",
    "        row['hire_date'].date(), \n",
    "        row['job_id'], \n",
    "        int(row['salary']) \n",
    "    ) \n",
    "    cursor.execute(sql, values)\n",
    "    "
   ]
  },
  {
   "cell_type": "code",
   "execution_count": 71,
   "id": "c3b9d22b-c718-4ac4-b3c7-bcc7d5c8c998",
   "metadata": {},
   "outputs": [],
   "source": [
    "mydb.commit()"
   ]
  },
  {
   "cell_type": "code",
   "execution_count": 72,
   "id": "b62da9ba-320e-4676-9289-62ee3ada7032",
   "metadata": {},
   "outputs": [
    {
     "data": {
      "text/plain": [
       "True"
      ]
     },
     "execution_count": 72,
     "metadata": {},
     "output_type": "execute_result"
    }
   ],
   "source": [
    "cursor.close()"
   ]
  },
  {
   "cell_type": "code",
   "execution_count": 73,
   "id": "c8d8875f-bb67-4f8a-bf03-dc71e6b4cdff",
   "metadata": {},
   "outputs": [],
   "source": [
    "mydb.close() "
   ]
  },
  {
   "cell_type": "code",
   "execution_count": 74,
   "id": "32d2cf2f-9ef9-4ad2-9a30-23953d8aad33",
   "metadata": {},
   "outputs": [],
   "source": [
    "logging.error(\"Something went wrong\", exc_info=True)"
   ]
  },
  {
   "cell_type": "code",
   "execution_count": 75,
   "id": "712e09ab-b498-48a5-b409-e3d2e89d2ba9",
   "metadata": {},
   "outputs": [
    {
     "name": "stdout",
     "output_type": "stream",
     "text": [
      "ETL process completed successfully.\n"
     ]
    }
   ],
   "source": [
    "print(\"ETL process completed successfully.\")"
   ]
  },
  {
   "cell_type": "code",
   "execution_count": 1,
   "id": "e45f4139-fd34-4395-a87d-5e762289ea79",
   "metadata": {},
   "outputs": [
    {
     "name": "stdout",
     "output_type": "stream",
     "text": [
      "C:\\Users\\sabar\n"
     ]
    },
    {
     "name": "stderr",
     "output_type": "stream",
     "text": [
      "[NbConvertApp] Converting notebook ETL.ipynb to script\n",
      "[NbConvertApp] Writing 2863 bytes to ETL.py\n"
     ]
    }
   ],
   "source": [
    "import os \n",
    "print(os.getcwd()) \n",
    "get_ipython().system('jupyter nbconvert --to script ETL.ipynb')"
   ]
  },
  {
   "cell_type": "code",
   "execution_count": null,
   "id": "b808d7df-52df-4a76-94d2-f6aff5bf5cde",
   "metadata": {},
   "outputs": [],
   "source": []
  }
 ],
 "metadata": {
  "kernelspec": {
   "display_name": "Python 3 (ipykernel)",
   "language": "python",
   "name": "python3"
  },
  "language_info": {
   "codemirror_mode": {
    "name": "ipython",
    "version": 3
   },
   "file_extension": ".py",
   "mimetype": "text/x-python",
   "name": "python",
   "nbconvert_exporter": "python",
   "pygments_lexer": "ipython3",
   "version": "3.13.5"
  }
 },
 "nbformat": 4,
 "nbformat_minor": 5
}
