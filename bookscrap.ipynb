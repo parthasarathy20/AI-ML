{
 "cells": [
  {
   "cell_type": "code",
   "execution_count": 6,
   "id": "f5644bc4-af3e-44d8-af88-0127f3e0b61f",
   "metadata": {},
   "outputs": [],
   "source": [
    "import requests\n",
    "from bs4 import BeautifulSoup"
   ]
  },
  {
   "cell_type": "code",
   "execution_count": 15,
   "id": "f81c42fc-4481-4322-9939-ca2a4bf8ae29",
   "metadata": {},
   "outputs": [],
   "source": [
    "import pandas as pd"
   ]
  },
  {
   "cell_type": "code",
   "execution_count": 7,
   "id": "95ac9858-0092-4e54-9bfd-0ad6caa63bff",
   "metadata": {},
   "outputs": [],
   "source": [
    "URL='https://books.toscrape.com/'"
   ]
  },
  {
   "cell_type": "code",
   "execution_count": 8,
   "id": "023bb7f0-0994-484f-982a-451d8a96b0f5",
   "metadata": {},
   "outputs": [],
   "source": [
    "response = requests.get(URL)\n",
    "\n"
   ]
  },
  {
   "cell_type": "code",
   "execution_count": 11,
   "id": "9f9b1db7-8249-4c9d-9eab-8c895351c975",
   "metadata": {},
   "outputs": [],
   "source": [
    "soup = BeautifulSoup(response.text, 'html.parser')"
   ]
  },
  {
   "cell_type": "code",
   "execution_count": 12,
   "id": "5e369e68-b990-451d-81b7-512fea162d11",
   "metadata": {},
   "outputs": [],
   "source": [
    "book_data=[]"
   ]
  },
  {
   "cell_type": "code",
   "execution_count": 13,
   "id": "66ca3260-ab01-4e38-9d3a-fdfbccce25a0",
   "metadata": {},
   "outputs": [],
   "source": [
    "books = soup.find_all('article', class_='product_pod')"
   ]
  },
  {
   "cell_type": "code",
   "execution_count": 16,
   "id": "3c21687f-cf2e-46e1-9e10-d98e0f8ba7f0",
   "metadata": {},
   "outputs": [
    {
     "name": "stdout",
     "output_type": "stream",
     "text": [
      "Title: A Light in the Attic\n",
      "Price: Â£51.77\n",
      "\n",
      "Title: Tipping the Velvet\n",
      "Price: Â£53.74\n",
      "\n",
      "Title: Soumission\n",
      "Price: Â£50.10\n",
      "\n",
      "Title: Sharp Objects\n",
      "Price: Â£47.82\n",
      "\n",
      "Title: Sapiens: A Brief History of Humankind\n",
      "Price: Â£54.23\n",
      "\n",
      "Title: The Requiem Red\n",
      "Price: Â£22.65\n",
      "\n",
      "Title: The Dirty Little Secrets of Getting Your Dream Job\n",
      "Price: Â£33.34\n",
      "\n",
      "Title: The Coming Woman: A Novel Based on the Life of the Infamous Feminist, Victoria Woodhull\n",
      "Price: Â£17.93\n",
      "\n",
      "Title: The Boys in the Boat: Nine Americans and Their Epic Quest for Gold at the 1936 Berlin Olympics\n",
      "Price: Â£22.60\n",
      "\n",
      "Title: The Black Maria\n",
      "Price: Â£52.15\n",
      "\n",
      "Title: Starving Hearts (Triangular Trade Trilogy, #1)\n",
      "Price: Â£13.99\n",
      "\n",
      "Title: Shakespeare's Sonnets\n",
      "Price: Â£20.66\n",
      "\n",
      "Title: Set Me Free\n",
      "Price: Â£17.46\n",
      "\n",
      "Title: Scott Pilgrim's Precious Little Life (Scott Pilgrim #1)\n",
      "Price: Â£52.29\n",
      "\n",
      "Title: Rip it Up and Start Again\n",
      "Price: Â£35.02\n",
      "\n",
      "Title: Our Band Could Be Your Life: Scenes from the American Indie Underground, 1981-1991\n",
      "Price: Â£57.25\n",
      "\n",
      "Title: Olio\n",
      "Price: Â£23.88\n",
      "\n",
      "Title: Mesaerion: The Best Science Fiction Stories 1800-1849\n",
      "Price: Â£37.59\n",
      "\n",
      "Title: Libertarianism for Beginners\n",
      "Price: Â£51.33\n",
      "\n",
      "Title: It's Only the Himalayas\n",
      "Price: Â£45.17\n",
      "\n"
     ]
    }
   ],
   "source": [
    "\n",
    "for book in books:\n",
    "    title = book.h3.a['title']\n",
    "    price = book.find('p', class_='price_color').text\n",
    "    print(f\"Title: {title}\\nPrice: {price}\\n\")\n",
    "    book_data.append({\"Title\":title,\"Price\":price})"
   ]
  },
  {
   "cell_type": "code",
   "execution_count": 17,
   "id": "86508658-a007-49b0-a515-aac15df5514f",
   "metadata": {},
   "outputs": [
    {
     "name": "stdout",
     "output_type": "stream",
     "text": [
      "                                                Title    Price\n",
      "0                                A Light in the Attic  Â£51.77\n",
      "1                                  Tipping the Velvet  Â£53.74\n",
      "2                                          Soumission  Â£50.10\n",
      "3                                       Sharp Objects  Â£47.82\n",
      "4               Sapiens: A Brief History of Humankind  Â£54.23\n",
      "5                                     The Requiem Red  Â£22.65\n",
      "6   The Dirty Little Secrets of Getting Your Dream...  Â£33.34\n",
      "7   The Coming Woman: A Novel Based on the Life of...  Â£17.93\n",
      "8   The Boys in the Boat: Nine Americans and Their...  Â£22.60\n",
      "9                                     The Black Maria  Â£52.15\n",
      "10     Starving Hearts (Triangular Trade Trilogy, #1)  Â£13.99\n",
      "11                              Shakespeare's Sonnets  Â£20.66\n",
      "12                                        Set Me Free  Â£17.46\n",
      "13  Scott Pilgrim's Precious Little Life (Scott Pi...  Â£52.29\n",
      "14                          Rip it Up and Start Again  Â£35.02\n",
      "15  Our Band Could Be Your Life: Scenes from the A...  Â£57.25\n",
      "16                                               Olio  Â£23.88\n",
      "17  Mesaerion: The Best Science Fiction Stories 18...  Â£37.59\n",
      "18                       Libertarianism for Beginners  Â£51.33\n",
      "19                            It's Only the Himalayas  Â£45.17\n",
      "20                               A Light in the Attic  Â£51.77\n",
      "21                                 Tipping the Velvet  Â£53.74\n",
      "22                                         Soumission  Â£50.10\n",
      "23                                      Sharp Objects  Â£47.82\n",
      "24              Sapiens: A Brief History of Humankind  Â£54.23\n",
      "25                                    The Requiem Red  Â£22.65\n",
      "26  The Dirty Little Secrets of Getting Your Dream...  Â£33.34\n",
      "27  The Coming Woman: A Novel Based on the Life of...  Â£17.93\n",
      "28  The Boys in the Boat: Nine Americans and Their...  Â£22.60\n",
      "29                                    The Black Maria  Â£52.15\n",
      "30     Starving Hearts (Triangular Trade Trilogy, #1)  Â£13.99\n",
      "31                              Shakespeare's Sonnets  Â£20.66\n",
      "32                                        Set Me Free  Â£17.46\n",
      "33  Scott Pilgrim's Precious Little Life (Scott Pi...  Â£52.29\n",
      "34                          Rip it Up and Start Again  Â£35.02\n",
      "35  Our Band Could Be Your Life: Scenes from the A...  Â£57.25\n",
      "36                                               Olio  Â£23.88\n",
      "37  Mesaerion: The Best Science Fiction Stories 18...  Â£37.59\n",
      "38                       Libertarianism for Beginners  Â£51.33\n",
      "39                            It's Only the Himalayas  Â£45.17\n"
     ]
    }
   ],
   "source": [
    "df=pd.DataFrame(book_data)\n",
    "print(df)"
   ]
  },
  {
   "cell_type": "code",
   "execution_count": null,
   "id": "e69755cf-7043-49f1-bbdb-a092a8acf46b",
   "metadata": {},
   "outputs": [],
   "source": [
    "book_data = []\n",
    "conversion_rate = 82 "
   ]
  },
  {
   "cell_type": "code",
   "execution_count": 19,
   "id": "98870401-46d1-4f14-83bd-bf6c5dbc26af",
   "metadata": {},
   "outputs": [
    {
     "ename": "SyntaxError",
     "evalue": "invalid non-printable character U+00A0 (679023251.py, line 12)",
     "output_type": "error",
     "traceback": [
      "  \u001b[36mCell\u001b[39m\u001b[36m \u001b[39m\u001b[32mIn[19]\u001b[39m\u001b[32m, line 12\u001b[39m\n\u001b[31m    \u001b[39m\u001b[31mprint(\"Error:\", e)\u001b[39m\n                   ^\n\u001b[31mSyntaxError\u001b[39m\u001b[31m:\u001b[39m invalid non-printable character U+00A0\n"
     ]
    }
   ],
   "source": [
    "for book in books:\n",
    "    try:\n",
    "        title = book.h3.a['title']\n",
    "        price_str = book.find('p', class_='price_color').text.strip()\n",
    "        # Remove non-numeric parts (e.g., 'Â£' or '£')\n",
    "        price_clean = price_str.replace('Â£', '').replace('£', '')\n",
    "        gbp = float(price_clean)\n",
    "        inr = gbp * rate\n",
    "        print(f\"Title: {title}\\nGBP: £{gbp:.2f}\\nINR: ₹{inr:.2f}\\n\")\n",
    "        book_data.append({\"Title\": title, \"GBP\": f\"£{gbp:.2f}\", \"INR\": f\"₹{inr:.2f}\"})\n",
    "    except Exception as e:\n",
    "        print(\"Error:\", e)"
   ]
  },
  {
   "cell_type": "code",
   "execution_count": null,
   "id": "0194dc7b-5329-4d33-9f1c-3e54adca7dfa",
   "metadata": {},
   "outputs": [],
   "source": []
  }
 ],
 "metadata": {
  "kernelspec": {
   "display_name": "Python 3 (ipykernel)",
   "language": "python",
   "name": "python3"
  },
  "language_info": {
   "codemirror_mode": {
    "name": "ipython",
    "version": 3
   },
   "file_extension": ".py",
   "mimetype": "text/x-python",
   "name": "python",
   "nbconvert_exporter": "python",
   "pygments_lexer": "ipython3",
   "version": "3.13.5"
  }
 },
 "nbformat": 4,
 "nbformat_minor": 5
}
